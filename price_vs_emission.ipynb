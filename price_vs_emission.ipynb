{
 "cells": [
  {
   "cell_type": "code",
   "execution_count": 32,
   "id": "7ecfa493",
   "metadata": {},
   "outputs": [],
   "source": [
    "import pandas as pd\n",
    "import matplotlib.pyplot as plt"
   ]
  },
  {
   "cell_type": "code",
   "execution_count": 36,
   "id": "a402de9e",
   "metadata": {},
   "outputs": [],
   "source": [
    "def normalize(lst):\n",
    "    amax, amin = max(lst), min(lst)\n",
    "    res = []\n",
    "    for val in lst:\n",
    "        res.append((val - amin) / (amax - amin))\n",
    "    return res"
   ]
  },
  {
   "cell_type": "code",
   "execution_count": 37,
   "id": "b5c533da",
   "metadata": {},
   "outputs": [
    {
     "data": {
      "text/html": [
       "<div>\n",
       "<style scoped>\n",
       "    .dataframe tbody tr th:only-of-type {\n",
       "        vertical-align: middle;\n",
       "    }\n",
       "\n",
       "    .dataframe tbody tr th {\n",
       "        vertical-align: top;\n",
       "    }\n",
       "\n",
       "    .dataframe thead th {\n",
       "        text-align: right;\n",
       "    }\n",
       "</style>\n",
       "<table border=\"1\" class=\"dataframe\">\n",
       "  <thead>\n",
       "    <tr style=\"text-align: right;\">\n",
       "      <th></th>\n",
       "      <th>Nation</th>\n",
       "      <th>Price</th>\n",
       "      <th>Year</th>\n",
       "      <th>Emission</th>\n",
       "    </tr>\n",
       "  </thead>\n",
       "  <tbody>\n",
       "    <tr>\n",
       "      <th>0</th>\n",
       "      <td>AFGHANISTAN</td>\n",
       "      <td>0.0</td>\n",
       "      <td>1949</td>\n",
       "      <td>4.0</td>\n",
       "    </tr>\n",
       "    <tr>\n",
       "      <th>1</th>\n",
       "      <td>AFGHANISTAN</td>\n",
       "      <td>0.0</td>\n",
       "      <td>1950</td>\n",
       "      <td>23.0</td>\n",
       "    </tr>\n",
       "    <tr>\n",
       "      <th>2</th>\n",
       "      <td>AFGHANISTAN</td>\n",
       "      <td>0.0</td>\n",
       "      <td>1951</td>\n",
       "      <td>25.0</td>\n",
       "    </tr>\n",
       "    <tr>\n",
       "      <th>3</th>\n",
       "      <td>AFGHANISTAN</td>\n",
       "      <td>0.0</td>\n",
       "      <td>1952</td>\n",
       "      <td>25.0</td>\n",
       "    </tr>\n",
       "    <tr>\n",
       "      <th>4</th>\n",
       "      <td>AFGHANISTAN</td>\n",
       "      <td>0.0</td>\n",
       "      <td>1953</td>\n",
       "      <td>29.0</td>\n",
       "    </tr>\n",
       "    <tr>\n",
       "      <th>...</th>\n",
       "      <td>...</td>\n",
       "      <td>...</td>\n",
       "      <td>...</td>\n",
       "      <td>...</td>\n",
       "    </tr>\n",
       "    <tr>\n",
       "      <th>17227</th>\n",
       "      <td>ZIMBABWE</td>\n",
       "      <td>0.0</td>\n",
       "      <td>2010</td>\n",
       "      <td>2121.0</td>\n",
       "    </tr>\n",
       "    <tr>\n",
       "      <th>17228</th>\n",
       "      <td>ZIMBABWE</td>\n",
       "      <td>0.0</td>\n",
       "      <td>2011</td>\n",
       "      <td>2608.0</td>\n",
       "    </tr>\n",
       "    <tr>\n",
       "      <th>17229</th>\n",
       "      <td>ZIMBABWE</td>\n",
       "      <td>0.0</td>\n",
       "      <td>2012</td>\n",
       "      <td>2125.0</td>\n",
       "    </tr>\n",
       "    <tr>\n",
       "      <th>17230</th>\n",
       "      <td>ZIMBABWE</td>\n",
       "      <td>0.0</td>\n",
       "      <td>2013</td>\n",
       "      <td>3184.0</td>\n",
       "    </tr>\n",
       "    <tr>\n",
       "      <th>17231</th>\n",
       "      <td>ZIMBABWE</td>\n",
       "      <td>0.0</td>\n",
       "      <td>2014</td>\n",
       "      <td>3278.0</td>\n",
       "    </tr>\n",
       "  </tbody>\n",
       "</table>\n",
       "<p>17232 rows × 4 columns</p>\n",
       "</div>"
      ],
      "text/plain": [
       "            Nation  Price  Year  Emission\n",
       "0      AFGHANISTAN    0.0  1949       4.0\n",
       "1      AFGHANISTAN    0.0  1950      23.0\n",
       "2      AFGHANISTAN    0.0  1951      25.0\n",
       "3      AFGHANISTAN    0.0  1952      25.0\n",
       "4      AFGHANISTAN    0.0  1953      29.0\n",
       "...            ...    ...   ...       ...\n",
       "17227     ZIMBABWE    0.0  2010    2121.0\n",
       "17228     ZIMBABWE    0.0  2011    2608.0\n",
       "17229     ZIMBABWE    0.0  2012    2125.0\n",
       "17230     ZIMBABWE    0.0  2013    3184.0\n",
       "17231     ZIMBABWE    0.0  2014    3278.0\n",
       "\n",
       "[17232 rows x 4 columns]"
      ]
     },
     "execution_count": 37,
     "metadata": {},
     "output_type": "execute_result"
    }
   ],
   "source": [
    "df = pd.read_csv('data/emissions_with_prices.csv')[['Nation', 'Price', 'Year', 'Emission']]\n",
    "df"
   ]
  },
  {
   "cell_type": "code",
   "execution_count": 39,
   "id": "d89ff64e",
   "metadata": {},
   "outputs": [],
   "source": [
    "emissions = df['Emission'].tolist()\n",
    "prices = df['Price'].tolist()\n",
    "\n",
    "tpls_emission_price = list(zip(emissions, prices))        \n",
    "prices = [tpl[1] for tpl in tpls_emission_price if tpl[1] > 0 and tpl[1] < 45]\n",
    "emissions = [tpl[0] for tpl in tpls_emission_price if tpl[1] > 0 and tpl[1] < 45]\n",
    "\n",
    "prices_norm = normalize(prices)\n",
    "emissions_norm = normalize(emissions)"
   ]
  },
  {
   "cell_type": "code",
   "execution_count": 40,
   "id": "fb0a7f09",
   "metadata": {},
   "outputs": [
    {
     "data": {
      "image/png": "[encoded data removed]",
      "text/plain": [
       "<Figure size 432x288 with 1 Axes>"
      ]
     },
     "metadata": {
      "needs_background": "light"
     },
     "output_type": "display_data"
    }
   ],
   "source": [
    "plt.scatter(prices_norm, emissions_norm)\n",
    "plt.xlabel('Normalized Prices')\n",
    "plt.ylabel('Normalized CO2 Emissions')\n",
    "plt.title('Price vs. CO2 Normalized')\n",
    "plt.show()"
   ]
  }
 ],
 "metadata": {
  "kernelspec": {
   "display_name": "Python 3 (ipykernel)",
   "language": "python",
   "name": "python3"
  },
  "language_info": {
   "codemirror_mode": {
    "name": "ipython",
    "version": 3
   },
   "file_extension": ".py",
   "mimetype": "text/x-python",
   "name": "python",
   "nbconvert_exporter": "python",
   "pygments_lexer": "ipython3",
   "version": "3.9.5"
  }
 },
 "nbformat": 4,
 "nbformat_minor": 5
}
